{
 "cells": [
  {
   "cell_type": "code",
   "execution_count": 16,
   "id": "a9c926b9-38b7-46cf-8dd9-6bd4ce84eeb4",
   "metadata": {},
   "outputs": [],
   "source": [
    "import torch\n",
    "import torch.nn as nn\n",
    "import torch.nn.functional as F\n",
    "import torchvision.datasets as datasets\n",
    "import torchvision.transforms as transforms\n",
    "from torch.utils.data import DataLoader\n",
    "import numpy\n",
    "import matplotlib.pyplot as plt\n",
    "import random"
   ]
  },
  {
   "cell_type": "code",
   "execution_count": 7,
   "id": "8d282c57-3f8c-443c-92c7-0a4f28c1d0ac",
   "metadata": {},
   "outputs": [],
   "source": [
    "train_dataset = datasets.MNIST('./', train=True, transform=transforms.ToTensor(), download=True)\n",
    "test_dataset = datasets.MNIST('./', train=False, transform=transforms.ToTensor(), download=True)"
   ]
  },
  {
   "cell_type": "code",
   "execution_count": 8,
   "id": "81ea85c0-3162-42e7-bff7-a44ee5ea76ab",
   "metadata": {},
   "outputs": [],
   "source": [
    "train_loader = DataLoader(train_dataset, batch_size=32, shuffle=True)\n",
    "test_loader = DataLoader(test_dataset, batch_size=32, shuffle=True)"
   ]
  },
  {
   "cell_type": "code",
   "execution_count": 9,
   "id": "3c04ba1a-66a7-4598-bafd-11a452338754",
   "metadata": {},
   "outputs": [],
   "source": [
    "def plot_img(image):\n",
    "    image = image.numpy()[0]\n",
    "    image = 255 * image\n",
    "    plt.imshow(image, cmap='gray')"
   ]
  },
  {
   "cell_type": "code",
   "execution_count": 10,
   "id": "37fa10a7-c766-4bd5-b4ad-1b181ff4d6a1",
   "metadata": {},
   "outputs": [
    {
     "data": {
      "image/png": "[encoded data removed]",
      "text/plain": [
       "<Figure size 640x480 with 1 Axes>"
      ]
     },
     "metadata": {},
     "output_type": "display_data"
    }
   ],
   "source": [
    "sample_data = next(iter(train_loader))\n",
    "plot_img(sample_data[0][0])"
   ]
  },
  {
   "cell_type": "code",
   "execution_count": 11,
   "id": "2a5179de-9254-44e1-8626-42bfd4e8ece9",
   "metadata": {},
   "outputs": [],
   "source": [
    "# Input : 784 (28*28)\n",
    "# Output : 10\n",
    "linear = nn.Linear(784, 10, bias=True) # 선형 모델로 구성\n",
    "\n",
    "criterion = nn.CrossEntropyLoss() # softmax 함수 적용됨.\n",
    "optimizer = torch.optim.SGD(linear.parameters(), lr=0.1)"
   ]
  },
  {
   "cell_type": "code",
   "execution_count": 13,
   "id": "39ae0aad-9c06-4021-8484-479fd935aac9",
   "metadata": {
    "scrolled": true
   },
   "outputs": [
    {
     "name": "stdout",
     "output_type": "stream",
     "text": [
      "Epochs : 0001, Loss : 0.320512503\n",
      "Epochs : 0002, Loss : 0.299606204\n",
      "Epochs : 0003, Loss : 0.289435297\n",
      "Epochs : 0004, Loss : 0.282911122\n",
      "Epochs : 0005, Loss : 0.278619498\n",
      "Epochs : 0006, Loss : 0.274563760\n",
      "Epochs : 0007, Loss : 0.271771461\n",
      "Epochs : 0008, Loss : 0.269909948\n",
      "Epochs : 0009, Loss : 0.267682344\n",
      "Epochs : 0010, Loss : 0.265781969\n",
      "Epochs : 0011, Loss : 0.264247447\n",
      "Epochs : 0012, Loss : 0.262505949\n",
      "Epochs : 0013, Loss : 0.261846542\n",
      "Epochs : 0014, Loss : 0.259853810\n",
      "Epochs : 0015, Loss : 0.259420872\n",
      "Epochs : 0016, Loss : 0.257938832\n",
      "Epochs : 0017, Loss : 0.257650912\n",
      "Epochs : 0018, Loss : 0.256540895\n",
      "Epochs : 0019, Loss : 0.255584657\n",
      "Epochs : 0020, Loss : 0.254873633\n",
      "Epochs : 0021, Loss : 0.253844768\n",
      "Epochs : 0022, Loss : 0.253714204\n",
      "Epochs : 0023, Loss : 0.252945215\n",
      "Epochs : 0024, Loss : 0.252208799\n",
      "Epochs : 0025, Loss : 0.251920164\n",
      "Epochs : 0026, Loss : 0.250930488\n",
      "Epochs : 0027, Loss : 0.250753462\n",
      "Epochs : 0028, Loss : 0.250884354\n",
      "Epochs : 0029, Loss : 0.249614552\n",
      "Epochs : 0030, Loss : 0.249418259\n",
      "Epochs : 0031, Loss : 0.249275476\n",
      "Epochs : 0032, Loss : 0.248708859\n",
      "Epochs : 0033, Loss : 0.248283029\n",
      "Epochs : 0034, Loss : 0.248086706\n",
      "Epochs : 0035, Loss : 0.247453541\n",
      "Epochs : 0036, Loss : 0.247503132\n",
      "Epochs : 0037, Loss : 0.246453077\n",
      "Epochs : 0038, Loss : 0.246538177\n",
      "Epochs : 0039, Loss : 0.246127009\n",
      "Epochs : 0040, Loss : 0.245789111\n",
      "Epochs : 0041, Loss : 0.245803684\n",
      "Epochs : 0042, Loss : 0.245128974\n",
      "Epochs : 0043, Loss : 0.244971469\n",
      "Epochs : 0044, Loss : 0.244480222\n",
      "Epochs : 0045, Loss : 0.244462371\n",
      "Epochs : 0046, Loss : 0.244144559\n",
      "Epochs : 0047, Loss : 0.243841648\n",
      "Epochs : 0048, Loss : 0.243686408\n",
      "Epochs : 0049, Loss : 0.243350655\n",
      "Epochs : 0050, Loss : 0.242871776\n",
      "done\n"
     ]
    }
   ],
   "source": [
    "epochs = 50\n",
    "for epoch in range(epochs):\n",
    "    avg_loss = 0\n",
    "    total_batch = len(train_loader)\n",
    "\n",
    "    for x, y in train_loader:\n",
    "        x = x.view(-1, 28*28)\n",
    "        optimizer.zero_grad()\n",
    "        model = linear(x)\n",
    "        loss = criterion(model, y)\n",
    "        loss.backward()\n",
    "        optimizer.step()\n",
    "\n",
    "        avg_loss += loss / total_batch\n",
    "    print(f\"Epochs : {epoch+1:04d}, Loss : {avg_loss:.9f}\")\n",
    "print(\"done\")"
   ]
  },
  {
   "cell_type": "code",
   "execution_count": 24,
   "id": "762918cc-c6e4-48e1-900f-71a4fcfd1ed3",
   "metadata": {},
   "outputs": [
    {
     "name": "stdout",
     "output_type": "stream",
     "text": [
      "Accuracy:  0.8682000041007996\n",
      "Label:  7\n",
      "Prediction:  7\n"
     ]
    },
    {
     "data": {
      "image/png": "[encoded data removed]",
      "text/plain": [
       "<Figure size 640x480 with 1 Axes>"
      ]
     },
     "metadata": {},
     "output_type": "display_data"
    }
   ],
   "source": [
    "with torch.no_grad():\n",
    "    x_test = test_dataset.data.view(-1, 28*28).float()\n",
    "    y_test = test_dataset.targets\n",
    "\n",
    "    pred = linear(x_test)\n",
    "    correct = torch.argmax(pred, 1) == y_test\n",
    "    accuracy = correct.float().mean()\n",
    "    print('Accuracy: ', accuracy.item())\n",
    "\n",
    "    r = random.randint(0, len(test_dataset) -1)\n",
    "    x_single = test_dataset.data[r:r+1].view(-1, 28*28).float()\n",
    "    y_single = test_dataset.targets[r:r+1]\n",
    "\n",
    "    print('Label: ', y_single.item())\n",
    "    single_pred = linear(x_single)\n",
    "    print('Prediction: ', torch.argmax(single_pred, 1).item())\n",
    "\n",
    "    plt.imshow(test_dataset.data[r:r+1].view(28, 28), cmap='Greys')\n",
    "    plt.show()"
   ]
  },
  {
   "cell_type": "code",
   "execution_count": null,
   "id": "f89bfd78-3250-4692-a712-1ebded69632a",
   "metadata": {},
   "outputs": [],
   "source": []
  }
 ],
 "metadata": {
  "kernelspec": {
   "display_name": "Python 3 (ipykernel)",
   "language": "python",
   "name": "python3"
  },
  "language_info": {
   "codemirror_mode": {
    "name": "ipython",
    "version": 3
   },
   "file_extension": ".py",
   "mimetype": "text/x-python",
   "name": "python",
   "nbconvert_exporter": "python",
   "pygments_lexer": "ipython3",
   "version": "3.11.9"
  }
 },
 "nbformat": 4,
 "nbformat_minor": 5
}
