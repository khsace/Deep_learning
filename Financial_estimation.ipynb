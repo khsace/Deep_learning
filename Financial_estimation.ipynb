{
 "cells": [
  {
   "cell_type": "code",
   "execution_count": 15,
   "id": "b10869fe-fcaa-4a3e-b60f-4007ea0b8293",
   "metadata": {},
   "outputs": [],
   "source": [
    "import FinanceDataReader as fdr\n",
    "import torch\n",
    "import torch.optim\n",
    "import torch.nn as nn\n",
    "from torch.utils.data import TensorDataset\n",
    "from torch.utils.data import DataLoader\n",
    "from sklearn.neighbors import KernelDensity\n",
    "import numpy as np\n",
    "import matplotlib.pyplot as plt\n",
    "import seaborn as sns"
   ]
  },
  {
   "cell_type": "markdown",
   "id": "a3ab1e2b-2fd6-4627-b2dd-d6f577d80ff7",
   "metadata": {},
   "source": [
    "## 데이터 로드 및 스케일링"
   ]
  },
  {
   "cell_type": "code",
   "execution_count": 3,
   "id": "353e4da5-9b82-481e-adb4-dacaa824a9d9",
   "metadata": {},
   "outputs": [
    {
     "data": {
      "text/html": [
       "<div>\n",
       "<style scoped>\n",
       "    .dataframe tbody tr th:only-of-type {\n",
       "        vertical-align: middle;\n",
       "    }\n",
       "\n",
       "    .dataframe tbody tr th {\n",
       "        vertical-align: top;\n",
       "    }\n",
       "\n",
       "    .dataframe thead th {\n",
       "        text-align: right;\n",
       "    }\n",
       "</style>\n",
       "<table border=\"1\" class=\"dataframe\">\n",
       "  <thead>\n",
       "    <tr style=\"text-align: right;\">\n",
       "      <th></th>\n",
       "      <th>Open</th>\n",
       "      <th>High</th>\n",
       "      <th>Low</th>\n",
       "      <th>Close</th>\n",
       "      <th>Volume</th>\n",
       "      <th>Change</th>\n",
       "    </tr>\n",
       "    <tr>\n",
       "      <th>Date</th>\n",
       "      <th></th>\n",
       "      <th></th>\n",
       "      <th></th>\n",
       "      <th></th>\n",
       "      <th></th>\n",
       "      <th></th>\n",
       "    </tr>\n",
       "  </thead>\n",
       "  <tbody>\n",
       "    <tr>\n",
       "      <th>2022-05-02</th>\n",
       "      <td>66600</td>\n",
       "      <td>67600</td>\n",
       "      <td>66500</td>\n",
       "      <td>67300</td>\n",
       "      <td>14106184</td>\n",
       "      <td>-0.001484</td>\n",
       "    </tr>\n",
       "    <tr>\n",
       "      <th>2022-05-03</th>\n",
       "      <td>67400</td>\n",
       "      <td>68400</td>\n",
       "      <td>67300</td>\n",
       "      <td>67500</td>\n",
       "      <td>14168875</td>\n",
       "      <td>0.002972</td>\n",
       "    </tr>\n",
       "    <tr>\n",
       "      <th>2022-05-04</th>\n",
       "      <td>68000</td>\n",
       "      <td>68400</td>\n",
       "      <td>67500</td>\n",
       "      <td>67900</td>\n",
       "      <td>11505248</td>\n",
       "      <td>0.005926</td>\n",
       "    </tr>\n",
       "    <tr>\n",
       "      <th>2022-05-06</th>\n",
       "      <td>67000</td>\n",
       "      <td>67100</td>\n",
       "      <td>66500</td>\n",
       "      <td>66500</td>\n",
       "      <td>14356156</td>\n",
       "      <td>-0.020619</td>\n",
       "    </tr>\n",
       "    <tr>\n",
       "      <th>2022-05-09</th>\n",
       "      <td>66300</td>\n",
       "      <td>66900</td>\n",
       "      <td>66100</td>\n",
       "      <td>66100</td>\n",
       "      <td>11858736</td>\n",
       "      <td>-0.006015</td>\n",
       "    </tr>\n",
       "  </tbody>\n",
       "</table>\n",
       "</div>"
      ],
      "text/plain": [
       "             Open   High    Low  Close    Volume    Change\n",
       "Date                                                      \n",
       "2022-05-02  66600  67600  66500  67300  14106184 -0.001484\n",
       "2022-05-03  67400  68400  67300  67500  14168875  0.002972\n",
       "2022-05-04  68000  68400  67500  67900  11505248  0.005926\n",
       "2022-05-06  67000  67100  66500  66500  14356156 -0.020619\n",
       "2022-05-09  66300  66900  66100  66100  11858736 -0.006015"
      ]
     },
     "execution_count": 3,
     "metadata": {},
     "output_type": "execute_result"
    }
   ],
   "source": [
    "# 삼성전자 데이터 22년 5월~24년 5월까지 로드\n",
    "df = fdr.DataReader('005930', '2022-05-01', '2024-05-01')\n",
    "df.head()"
   ]
  },
  {
   "cell_type": "code",
   "execution_count": 15,
   "id": "cda52ec9-e4bd-4bc3-b84c-b0cff9cae4d2",
   "metadata": {},
   "outputs": [
    {
     "name": "stdout",
     "output_type": "stream",
     "text": [
      "(493, 6)\n"
     ]
    }
   ],
   "source": [
    "print(df.shape)"
   ]
  },
  {
   "cell_type": "code",
   "execution_count": 4,
   "id": "b9453137-869f-4b4a-b345-0a91866615d6",
   "metadata": {},
   "outputs": [
    {
     "data": {
      "text/html": [
       "<div>\n",
       "<style scoped>\n",
       "    .dataframe tbody tr th:only-of-type {\n",
       "        vertical-align: middle;\n",
       "    }\n",
       "\n",
       "    .dataframe tbody tr th {\n",
       "        vertical-align: top;\n",
       "    }\n",
       "\n",
       "    .dataframe thead th {\n",
       "        text-align: right;\n",
       "    }\n",
       "</style>\n",
       "<table border=\"1\" class=\"dataframe\">\n",
       "  <thead>\n",
       "    <tr style=\"text-align: right;\">\n",
       "      <th></th>\n",
       "      <th>Open</th>\n",
       "      <th>High</th>\n",
       "      <th>Low</th>\n",
       "      <th>Volume</th>\n",
       "    </tr>\n",
       "    <tr>\n",
       "      <th>Date</th>\n",
       "      <th></th>\n",
       "      <th></th>\n",
       "      <th></th>\n",
       "      <th></th>\n",
       "    </tr>\n",
       "  </thead>\n",
       "  <tbody>\n",
       "    <tr>\n",
       "      <th>2022-05-02</th>\n",
       "      <td>0.434650</td>\n",
       "      <td>0.432099</td>\n",
       "      <td>0.449541</td>\n",
       "      <td>0.160588</td>\n",
       "    </tr>\n",
       "    <tr>\n",
       "      <th>2022-05-03</th>\n",
       "      <td>0.458967</td>\n",
       "      <td>0.456790</td>\n",
       "      <td>0.474006</td>\n",
       "      <td>0.161796</td>\n",
       "    </tr>\n",
       "    <tr>\n",
       "      <th>2022-05-04</th>\n",
       "      <td>0.477204</td>\n",
       "      <td>0.456790</td>\n",
       "      <td>0.480122</td>\n",
       "      <td>0.110496</td>\n",
       "    </tr>\n",
       "    <tr>\n",
       "      <th>2022-05-06</th>\n",
       "      <td>0.446809</td>\n",
       "      <td>0.416667</td>\n",
       "      <td>0.449541</td>\n",
       "      <td>0.165402</td>\n",
       "    </tr>\n",
       "    <tr>\n",
       "      <th>2022-05-09</th>\n",
       "      <td>0.425532</td>\n",
       "      <td>0.410494</td>\n",
       "      <td>0.437309</td>\n",
       "      <td>0.117304</td>\n",
       "    </tr>\n",
       "    <tr>\n",
       "      <th>...</th>\n",
       "      <td>...</td>\n",
       "      <td>...</td>\n",
       "      <td>...</td>\n",
       "      <td>...</td>\n",
       "    </tr>\n",
       "    <tr>\n",
       "      <th>2024-04-24</th>\n",
       "      <td>0.765957</td>\n",
       "      <td>0.777778</td>\n",
       "      <td>0.776758</td>\n",
       "      <td>0.315816</td>\n",
       "    </tr>\n",
       "    <tr>\n",
       "      <th>2024-04-25</th>\n",
       "      <td>0.759878</td>\n",
       "      <td>0.737654</td>\n",
       "      <td>0.749235</td>\n",
       "      <td>0.188378</td>\n",
       "    </tr>\n",
       "    <tr>\n",
       "      <th>2024-04-26</th>\n",
       "      <td>0.775076</td>\n",
       "      <td>0.750000</td>\n",
       "      <td>0.755352</td>\n",
       "      <td>0.134578</td>\n",
       "    </tr>\n",
       "    <tr>\n",
       "      <th>2024-04-29</th>\n",
       "      <td>0.762918</td>\n",
       "      <td>0.740741</td>\n",
       "      <td>0.746177</td>\n",
       "      <td>0.171340</td>\n",
       "    </tr>\n",
       "    <tr>\n",
       "      <th>2024-04-30</th>\n",
       "      <td>0.750760</td>\n",
       "      <td>0.768519</td>\n",
       "      <td>0.758410</td>\n",
       "      <td>0.254974</td>\n",
       "    </tr>\n",
       "  </tbody>\n",
       "</table>\n",
       "<p>493 rows × 4 columns</p>\n",
       "</div>"
      ],
      "text/plain": [
       "                Open      High       Low    Volume\n",
       "Date                                              \n",
       "2022-05-02  0.434650  0.432099  0.449541  0.160588\n",
       "2022-05-03  0.458967  0.456790  0.474006  0.161796\n",
       "2022-05-04  0.477204  0.456790  0.480122  0.110496\n",
       "2022-05-06  0.446809  0.416667  0.449541  0.165402\n",
       "2022-05-09  0.425532  0.410494  0.437309  0.117304\n",
       "...              ...       ...       ...       ...\n",
       "2024-04-24  0.765957  0.777778  0.776758  0.315816\n",
       "2024-04-25  0.759878  0.737654  0.749235  0.188378\n",
       "2024-04-26  0.775076  0.750000  0.755352  0.134578\n",
       "2024-04-29  0.762918  0.740741  0.746177  0.171340\n",
       "2024-04-30  0.750760  0.768519  0.758410  0.254974\n",
       "\n",
       "[493 rows x 4 columns]"
      ]
     },
     "execution_count": 4,
     "metadata": {},
     "output_type": "execute_result"
    }
   ],
   "source": [
    "# 데이터 전처리 : 0~1 값으로 변환\n",
    "def MinMaxScaler(data):\n",
    "    n1 = data - np.min(data, 0)\n",
    "    n2 = np.max(data, 0) - np.min(data, 0)\n",
    "    return n1 / (n2+1e-7) # 0으로 나누는 것 방지\n",
    "\n",
    "df = df[['Open', 'High', 'Low', 'Volume', 'Close']]\n",
    "dfx_origin = df[['Open', 'High', 'Low', 'Volume']]\n",
    "dfy_origin = df[['Close']]\n",
    "\n",
    "df1 = MinMaxScaler(df)\n",
    "dfy = df1[['Close']]\n",
    "dfx = df1[['Open', 'High', 'Low', 'Volume']]\n",
    "dfx"
   ]
  },
  {
   "cell_type": "code",
   "execution_count": 20,
   "id": "da5f155b-f933-4991-a0f8-83a5419dedbf",
   "metadata": {},
   "outputs": [
    {
     "data": {
      "text/plain": [
       "[[0.43465045592573054,\n",
       "  0.43209876543076514,\n",
       "  0.44954128440229496,\n",
       "  0.16058824694024032],\n",
       " [0.458966565348149,\n",
       "  0.4567901234553803,\n",
       "  0.4740061162065015,\n",
       "  0.1617956224870173],\n",
       " [0.4772036474149629,\n",
       "  0.4567901234553803,\n",
       "  0.4801223241575531,\n",
       "  0.11049642315162764],\n",
       " [0.44680851063693977,\n",
       "  0.41666666666538066,\n",
       "  0.44954128440229496,\n",
       "  0.1654024958783484],\n",
       " [0.4255319148923236,\n",
       "  0.4104938271592269,\n",
       "  0.4373088685001917,\n",
       "  0.11730430254865591]]"
      ]
     },
     "execution_count": 20,
     "metadata": {},
     "output_type": "execute_result"
    }
   ],
   "source": [
    "X = dfx.values.tolist()\n",
    "y = dfy.values.tolist()\n",
    "X[:5]"
   ]
  },
  {
   "cell_type": "code",
   "execution_count": 21,
   "id": "b5bb157b-cd5d-424b-9eaf-a1247f42dd4b",
   "metadata": {},
   "outputs": [
    {
     "data": {
      "text/plain": [
       "[[0.44954128440229496],\n",
       " [0.4556574923533466],\n",
       " [0.46788990825544985],\n",
       " [0.42507645259808846],\n",
       " [0.4128440366959852]]"
      ]
     },
     "execution_count": 21,
     "metadata": {},
     "output_type": "execute_result"
    }
   ],
   "source": [
    "y[:5]"
   ]
  },
  {
   "cell_type": "markdown",
   "id": "fb6ec309-0d86-4f3a-8700-9c71d36235be",
   "metadata": {
    "jp-MarkdownHeadingCollapsed": true
   },
   "source": [
    "## 데이터 전처리 - 10일간의 데이터와 다음 날의 종가 구성하기"
   ]
  },
  {
   "cell_type": "code",
   "execution_count": 27,
   "id": "512f0b5b-7c65-4f68-b0a7-50752cf9b5e1",
   "metadata": {},
   "outputs": [
    {
     "name": "stdout",
     "output_type": "stream",
     "text": [
      "[[0.878419452884868, 0.8549382716022995, 0.8440366972451252, 0.5042420402499336], [0.8632218844958565, 0.8395061728369151, 0.8287461773674961, 0.3243959501545387], [0.8054711246176125, 0.8179012345653768, 0.8103975535143413, 0.3004868482712324], [0.790273556228601, 0.7746913580223003, 0.749235474003825, 0.49206482461344286], [0.7629179331283802, 0.7376543209853776, 0.7125382262975152, 0.47573140677094716], [0.7325227963503571, 0.7160493827138393, 0.7247706421996184, 0.24940211886117347], [0.7659574468061825, 0.7777777777753773, 0.7767584097835573, 0.31581636351604586], [0.7598784194505779, 0.7376543209853776, 0.749235474003825, 0.1883782414405966], [0.7750759878395894, 0.7499999999976852, 0.7553516819548766, 0.13457770186076518], [0.7629179331283802, 0.7407407407384545, 0.7461773700282991, 0.17134043934441504]] -> [0.7614678899059282]\n"
     ]
    }
   ],
   "source": [
    "# 10일간의 데이터로 종가 예측\n",
    "window = 10\n",
    "data_X = []\n",
    "data_y = []\n",
    "for i in range(len(y)-window):\n",
    "    X_ = X[i:i+window] # 10일간의 데이터\n",
    "    y_ = y[i+window] # 다음 날 종가\n",
    "    data_X.append(X_)\n",
    "    data_y.append(y_)\n",
    "print(X_, \"->\", y_)"
   ]
  },
  {
   "cell_type": "code",
   "execution_count": 28,
   "id": "37000fa4-8d20-4c9e-afd5-ea2afe1911ca",
   "metadata": {},
   "outputs": [
    {
     "data": {
      "text/plain": [
       "[[0.43465045592573054,\n",
       "  0.43209876543076514,\n",
       "  0.44954128440229496,\n",
       "  0.16058824694024032],\n",
       " [0.458966565348149,\n",
       "  0.4567901234553803,\n",
       "  0.4740061162065015,\n",
       "  0.1617956224870173],\n",
       " [0.4772036474149629,\n",
       "  0.4567901234553803,\n",
       "  0.4801223241575531,\n",
       "  0.11049642315162764],\n",
       " [0.44680851063693977,\n",
       "  0.41666666666538066,\n",
       "  0.44954128440229496,\n",
       "  0.1654024958783484],\n",
       " [0.4255319148923236,\n",
       "  0.4104938271592269,\n",
       "  0.4373088685001917,\n",
       "  0.11730430254865591],\n",
       " [0.4133738601811144,\n",
       "  0.3919753086407655,\n",
       "  0.4128440366959852,\n",
       "  0.22085824408449303],\n",
       " [0.4012158054699051,\n",
       "  0.3919753086407655,\n",
       "  0.4097859327204594,\n",
       "  0.12639816634376747],\n",
       " [0.39209726443649817,\n",
       "  0.3672839506161503,\n",
       "  0.4006116207938819,\n",
       "  0.20503844858742165],\n",
       " [0.3951367781143005,\n",
       "  0.40432098765307306,\n",
       "  0.4097859327204594,\n",
       "  0.16916534914802484],\n",
       " [0.4498480243147421,\n",
       "  0.4259259259246113,\n",
       "  0.4373088685001917,\n",
       "  0.11882228971142911]]"
      ]
     },
     "execution_count": 28,
     "metadata": {},
     "output_type": "execute_result"
    }
   ],
   "source": [
    "data_X[0] # 10일간의 데이터"
   ]
  },
  {
   "cell_type": "code",
   "execution_count": 24,
   "id": "bd433f53-2f6c-43af-a8f7-d3717d9a1f5c",
   "metadata": {},
   "outputs": [
    {
     "data": {
      "text/plain": [
       "[0.45871559632887243]"
      ]
     },
     "execution_count": 24,
     "metadata": {},
     "output_type": "execute_result"
    }
   ],
   "source": [
    "data_y[0]"
   ]
  },
  {
   "cell_type": "markdown",
   "id": "252f82d9-22bd-4c8e-b402-c78e0badf027",
   "metadata": {},
   "source": [
    "## 훈련 데이터와 테스트 데이터 분리"
   ]
  },
  {
   "cell_type": "code",
   "execution_count": 29,
   "id": "e31d4c03-7290-4ed8-897d-56ba1a93e6ba",
   "metadata": {},
   "outputs": [
    {
     "name": "stdout",
     "output_type": "stream",
     "text": [
      "전체 데이터 크기 : 483 483\n"
     ]
    }
   ],
   "source": [
    "print('전체 데이터 크기 :', len(data_X), len(data_y))"
   ]
  },
  {
   "cell_type": "code",
   "execution_count": 32,
   "id": "b1453573-c85f-4664-ba4a-73e4c5679389",
   "metadata": {},
   "outputs": [
    {
     "name": "stdout",
     "output_type": "stream",
     "text": [
      "훈련 데이터 크기 : (338, 10, 4) (338, 1)\n",
      "테스트 데이터 크기 : (145, 10, 4) (145, 1)\n"
     ]
    }
   ],
   "source": [
    "# 7:3 비율로 분리\n",
    "train_size = int(len(data_y) * 0.7)\n",
    "train_X = np.array(data_X[:train_size])\n",
    "train_y = np.array(data_y[:train_size])\n",
    "\n",
    "test_size = int(len(data_y) * 0.3)\n",
    "test_X = np.array(data_X[train_size:])\n",
    "test_y = np.array(data_y[train_size:])\n",
    "\n",
    "print('훈련 데이터 크기 :', train_X.shape, train_y.shape)\n",
    "print('테스트 데이터 크기 :', test_X.shape, test_y.shape)"
   ]
  },
  {
   "cell_type": "code",
   "execution_count": 78,
   "id": "b4bce8d4-fc28-4d99-a017-693c1d210568",
   "metadata": {},
   "outputs": [],
   "source": [
    "# 텐서로 변환\n",
    "train_X_tensor = torch.FloatTensor(train_X)\n",
    "train_y_tensor = torch.FloatTensor(train_y)\n",
    "test_X_tensor = torch.FloatTensor(test_X)\n",
    "test_y_tensor = torch.FloatTensor(test_y)\n",
    "\n",
    "dataset = TensorDataset(train_X_tensor, train_y_tensor)\n",
    "dataloader = DataLoader(dataset, batch_size=32, shuffle=True, drop_last=True)"
   ]
  },
  {
   "cell_type": "code",
   "execution_count": 60,
   "id": "e00b018d-84e8-4956-9452-06fed75015c5",
   "metadata": {},
   "outputs": [
    {
     "data": {
      "text/plain": [
       "torch.Size([32, 10, 4])"
      ]
     },
     "execution_count": 60,
     "metadata": {},
     "output_type": "execute_result"
    }
   ],
   "source": [
    "a = next(iter(dataloader))\n",
    "a[0].shape"
   ]
  },
  {
   "cell_type": "markdown",
   "id": "954703a9-83a2-4d09-9463-00062b9b5c93",
   "metadata": {},
   "source": [
    "## 모델 학습"
   ]
  },
  {
   "cell_type": "code",
   "execution_count": 68,
   "id": "be56295e-61c0-465b-adca-8feb45a04d06",
   "metadata": {},
   "outputs": [],
   "source": [
    "class MyLSTM(nn.Module):\n",
    "    def __init__(self, input_dim, hidden_dim, output_dim, seq_len, layers):\n",
    "        super().__init__()\n",
    "        self.hidden_dim = hidden_dim\n",
    "        self.seq_len = seq_len\n",
    "        self.output_dim = output_dim\n",
    "        self.layers = layers\n",
    "        \n",
    "        self.lstm = nn.LSTM(input_dim, hidden_dim, num_layers=layers, dropout=0.1, batch_first=True)\n",
    "        self.fc = nn.Linear(hidden_dim, output_dim, bias=True)\n",
    "    def reset_hidden_state(self):\n",
    "        self.hidden = (\n",
    "            torch.zeros(self.layers, self.seq_len, self.hidden_dim),\n",
    "            torch.zeros(self.layers, self.seq_len, self.hidden_dim)\n",
    "        )\n",
    "    def forward(self, x):\n",
    "        x, _ = self.lstm(x)\n",
    "        x = self.fc(x[:,-1])\n",
    "        return x"
   ]
  },
  {
   "cell_type": "code",
   "execution_count": 98,
   "id": "f52dc5ba-da2c-4694-9644-c6a222f47a38",
   "metadata": {},
   "outputs": [],
   "source": [
    "def train(model, train_df, epochs=None, lr=None, verbose=10):\n",
    "    criterion = nn.MSELoss().to(device)\n",
    "    optimizer = optim.Adam(model.parameters(), lr=lr)\n",
    "    epochs = epochs\n",
    "    train_hist = np.zeros(epochs)\n",
    "    \n",
    "    for epoch in range(epochs):\n",
    "        avg_cost = 0\n",
    "        total_batch = len(train_df)\n",
    "        \n",
    "        for batch_idx, samples in enumerate(train_df):\n",
    "            x, y = samples\n",
    "            x = x.to(device)\n",
    "            y = y.to(device)\n",
    "            model.reset_hidden_state()\n",
    "            outputs = model(x)\n",
    "            loss = criterion(outputs, y)\n",
    "\n",
    "            optimizer.zero_grad()\n",
    "            loss.backward()\n",
    "            optimizer.step()\n",
    "\n",
    "            avg_cost += loss\n",
    "        train_hist[epoch] = avg_cost/total_batch\n",
    "        \n",
    "        if epoch%verbose==0: # verbose번째 마다 출력\n",
    "            print(f'Epoch: {epoch:d}, train_loss: {avg_cost:.4f}')\n",
    "    return model.eval(), train_hist"
   ]
  },
  {
   "cell_type": "code",
   "execution_count": 99,
   "id": "46442f5c-89db-4ad8-ba47-38555f49ba3b",
   "metadata": {},
   "outputs": [
    {
     "name": "stdout",
     "output_type": "stream",
     "text": [
      "Epoch: 0, train_loss: 0.2903\n",
      "Epoch: 20, train_loss: 0.0111\n",
      "Epoch: 40, train_loss: 0.0097\n",
      "Epoch: 60, train_loss: 0.0099\n",
      "Epoch: 80, train_loss: 0.0098\n"
     ]
    }
   ],
   "source": [
    "seq_len = 10\n",
    "in_dim = 4\n",
    "h_dim = 10\n",
    "out_dim = 1\n",
    "lr = 0.01\n",
    "epochs = 100\n",
    "\n",
    "device = torch.device('cuda' if torch.cuda.is_available() else 'cpu')\n",
    "model = MyLSTM(in_dim, h_dim, out_dim, seq_len, 1).to(device)\n",
    "model_trained, train_hist = train(model, dataloader, epochs=epochs, lr=lr, verbose=20)"
   ]
  },
  {
   "cell_type": "code",
   "execution_count": 100,
   "id": "8fae7bac-c5e6-49df-b8ce-060d48a6f5b5",
   "metadata": {},
   "outputs": [
    {
     "data": {
      "image/png": "[encoded data removed]",
      "text/plain": [
       "<Figure size 1000x400 with 1 Axes>"
      ]
     },
     "metadata": {},
     "output_type": "display_data"
    }
   ],
   "source": [
    "fig = plt.figure(figsize=(10,4))\n",
    "plt.plot(train_hist, label=\"Training loss\")\n",
    "plt.legend()\n",
    "plt.show()"
   ]
  },
  {
   "cell_type": "code",
   "execution_count": 101,
   "id": "2f5fe6a3-293c-4109-bae9-6a0c3cf4113b",
   "metadata": {},
   "outputs": [],
   "source": [
    "# 모델 저장\n",
    "PATH = \"./LSTM_result.pth\"\n",
    "torch.save(model.state_dict(), PATH)"
   ]
  },
  {
   "cell_type": "code",
   "execution_count": 102,
   "id": "de782fa7-127f-45f1-b37f-f4bd57903486",
   "metadata": {},
   "outputs": [
    {
     "data": {
      "text/plain": [
       "MyLSTM(\n",
       "  (lstm): LSTM(4, 10, batch_first=True, dropout=0.1)\n",
       "  (fc): Linear(in_features=10, out_features=1, bias=True)\n",
       ")"
      ]
     },
     "execution_count": 102,
     "metadata": {},
     "output_type": "execute_result"
    }
   ],
   "source": [
    "# 모델 불러오기\n",
    "model = MyLSTM(in_dim, h_dim, out_dim, seq_len, 1).to(device)\n",
    "model.load_state_dict(torch.load(PATH), strict=False)\n",
    "model.eval()"
   ]
  },
  {
   "cell_type": "markdown",
   "id": "34c972a2-caff-4f9f-b1ad-106dd16ea0ac",
   "metadata": {},
   "source": [
    "## 다음 날 주가 예측"
   ]
  },
  {
   "cell_type": "code",
   "execution_count": 125,
   "id": "06439cc2-7ef0-4947-9dd6-d0cde4968bac",
   "metadata": {},
   "outputs": [
    {
     "data": {
      "image/png": "[encoded data removed]",
      "text/plain": [
       "<Figure size 800x300 with 1 Axes>"
      ]
     },
     "metadata": {},
     "output_type": "display_data"
    },
    {
     "name": "stdout",
     "output_type": "stream",
     "text": [
      "내일 주가 : 74107원\n"
     ]
    }
   ],
   "source": [
    "with torch.no_grad():\n",
    "    pred_hist = []\n",
    "    for p in range(len(test_X_tensor)):\n",
    "        model.reset_hidden_state()\n",
    "        x = torch.unsqueeze(test_X_tensor[p], 0).to(device)\n",
    "        pred = model(x)\n",
    "        pred = torch.flatten(pred).item()\n",
    "        pred_hist.append(pred)\n",
    "    \n",
    "fig = plt.figure(figsize=(8,3))\n",
    "plt.plot(np.arange(len(pred_hist)), pred_hist, label='Predict')\n",
    "plt.plot(np.arange(len(test_y)), test_y, label='Original')\n",
    "plt.title('Predict & Original Close_price')\n",
    "plt.legend()\n",
    "plt.show()\n",
    "\n",
    "# origin_y : scaled_y = pred_y : scaled_pred_y \n",
    "# pred_y = origin_y * scaled_pred_y / scaled_y\n",
    "pred_y = dfy_origin.Close[-1] * pred_hist[-1] / dfy.Close[-1]\n",
    "pred_y = int(pred_y)\n",
    "print(f\"내일 주가 : {pred_y}원\")"
   ]
  },
  {
   "cell_type": "markdown",
   "id": "3d2f3d59-d1f2-4cbf-9e4a-60c1785ab529",
   "metadata": {},
   "source": [
    "## 커널 밀도 추정"
   ]
  },
  {
   "cell_type": "code",
   "execution_count": 18,
   "id": "4d86a778-30c4-4c7c-9b11-937f5f65ca8f",
   "metadata": {},
   "outputs": [
    {
     "data": {
      "image/png": "[encoded data removed]",
      "text/plain": [
       "<Figure size 640x480 with 2 Axes>"
      ]
     },
     "metadata": {},
     "output_type": "display_data"
    }
   ],
   "source": [
    "sns.set()\n",
    "ax = dfy.plot.hist(bins=50,)\n",
    "dfy.plot.kde(ax=ax, secondary_y=True)\n",
    "\n",
    "ax.get_legend().remove()\n",
    "plt.show()"
   ]
  }
 ],
 "metadata": {
  "kernelspec": {
   "display_name": "Python 3 (ipykernel)",
   "language": "python",
   "name": "python3"
  },
  "language_info": {
   "codemirror_mode": {
    "name": "ipython",
    "version": 3
   },
   "file_extension": ".py",
   "mimetype": "text/x-python",
   "name": "python",
   "nbconvert_exporter": "python",
   "pygments_lexer": "ipython3",
   "version": "3.8.10"
  }
 },
 "nbformat": 4,
 "nbformat_minor": 5
}
