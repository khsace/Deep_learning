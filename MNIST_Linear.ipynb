{
 "cells": [
  {
   "cell_type": "code",
   "execution_count": 148,
   "id": "bd5e75bf",
   "metadata": {},
   "outputs": [
    {
     "name": "stdout",
     "output_type": "stream",
     "text": [
      "Downloading http://yann.lecun.com/exdb/mnist/train-images-idx3-ubyte.gz\n",
      "Downloading http://yann.lecun.com/exdb/mnist/train-images-idx3-ubyte.gz to ./MNIST/raw/train-images-idx3-ubyte.gz\n"
     ]
    },
    {
     "name": "stderr",
     "output_type": "stream",
     "text": [
      "100%|████████████████████████████| 9912422/9912422 [00:01<00:00, 8727894.87it/s]\n"
     ]
    },
    {
     "name": "stdout",
     "output_type": "stream",
     "text": [
      "Extracting ./MNIST/raw/train-images-idx3-ubyte.gz to ./MNIST/raw\n",
      "\n",
      "Downloading http://yann.lecun.com/exdb/mnist/train-labels-idx1-ubyte.gz\n",
      "Downloading http://yann.lecun.com/exdb/mnist/train-labels-idx1-ubyte.gz to ./MNIST/raw/train-labels-idx1-ubyte.gz\n"
     ]
    },
    {
     "name": "stderr",
     "output_type": "stream",
     "text": [
      "100%|████████████████████████████████| 28881/28881 [00:00<00:00, 1727622.31it/s]\n"
     ]
    },
    {
     "name": "stdout",
     "output_type": "stream",
     "text": [
      "Extracting ./MNIST/raw/train-labels-idx1-ubyte.gz to ./MNIST/raw\n",
      "\n",
      "Downloading http://yann.lecun.com/exdb/mnist/t10k-images-idx3-ubyte.gz\n",
      "Downloading http://yann.lecun.com/exdb/mnist/t10k-images-idx3-ubyte.gz to ./MNIST/raw/t10k-images-idx3-ubyte.gz\n"
     ]
    },
    {
     "name": "stderr",
     "output_type": "stream",
     "text": [
      "100%|████████████████████████████| 1648877/1648877 [00:00<00:00, 2111424.06it/s]\n"
     ]
    },
    {
     "name": "stdout",
     "output_type": "stream",
     "text": [
      "Extracting ./MNIST/raw/t10k-images-idx3-ubyte.gz to ./MNIST/raw\n",
      "\n",
      "Downloading http://yann.lecun.com/exdb/mnist/t10k-labels-idx1-ubyte.gz\n",
      "Downloading http://yann.lecun.com/exdb/mnist/t10k-labels-idx1-ubyte.gz to ./MNIST/raw/t10k-labels-idx1-ubyte.gz\n"
     ]
    },
    {
     "name": "stderr",
     "output_type": "stream",
     "text": [
      "100%|█████████████████████████████████| 4542/4542 [00:00<00:00, 13406424.19it/s]"
     ]
    },
    {
     "name": "stdout",
     "output_type": "stream",
     "text": [
      "Extracting ./MNIST/raw/t10k-labels-idx1-ubyte.gz to ./MNIST/raw\n",
      "\n"
     ]
    },
    {
     "name": "stderr",
     "output_type": "stream",
     "text": [
      "\n"
     ]
    }
   ],
   "source": [
    "import torch\n",
    "import torch.nn as nn\n",
    "import torch.nn.functional as F\n",
    "import torchvision.transforms as transforms\n",
    "import torchvision.datasets as datasets\n",
    "from torch.utils.data import DataLoader\n",
    "from sklearn.metrics import confusion_matrix\n",
    "import numpy as np\n",
    "import matplotlib.pyplot as plt\n",
    "import seaborn as sns\n",
    "import random\n",
    "\n",
    "train_dataset = datasets.MNIST('./', train=True, transform=transforms.ToTensor(), download=True)\n",
    "test_dataset = datasets.MNIST('./', train=False, transform=transforms.ToTensor(), download=True)\n",
    "\n",
    "train_loader = DataLoader(train_dataset, batch_size=32, shuffle=True)\n",
    "test_loader = DataLoader(test_dataset, batch_size=32, shuffle=True, drop_last=True)"
   ]
  },
  {
   "cell_type": "code",
   "execution_count": 149,
   "id": "56d049ef",
   "metadata": {},
   "outputs": [],
   "source": [
    "device = torch.device(\"cuda\")"
   ]
  },
  {
   "cell_type": "code",
   "execution_count": 150,
   "id": "5bf9ad31",
   "metadata": {},
   "outputs": [
    {
     "data": {
      "image/png": "[encoded data removed]",
      "text/plain": [
       "<Figure size 432x288 with 1 Axes>"
      ]
     },
     "metadata": {
      "needs_background": "light"
     },
     "output_type": "display_data"
    }
   ],
   "source": [
    " def plot_img(image):\n",
    "    image = image.numpy()[0]\n",
    "    image = 255 * image\n",
    "    plt.imshow(image, cmap='gray')\n",
    "\n",
    "sample_data = next(iter(train_loader))\n",
    "plot_img(sample_data[0][0])"
   ]
  },
  {
   "cell_type": "markdown",
   "id": "b2d5c0cf",
   "metadata": {},
   "source": [
    "# linear_model_2"
   ]
  },
  {
   "cell_type": "code",
   "execution_count": 288,
   "id": "26c1003c",
   "metadata": {},
   "outputs": [],
   "source": [
    "model = nn.Sequential()\n",
    "model.add_module('fc1', nn.Linear(28*28, 100))\n",
    "model.add_module('relu1', nn.ReLU())\n",
    "model.add_module('fc2', nn.Linear(100, 100))\n",
    "model.add_module('relu2', nn.ReLU())\n",
    "model.add_module('fc3', nn.Linear(100, 10))\n",
    "model.to(device)\n",
    "\n",
    "loss_fn = nn.CrossEntropyLoss() # softmax 함수 적용됨.\n",
    "optimizer = torch.optim.SGD(model.parameters(), lr=0.1)"
   ]
  },
  {
   "cell_type": "code",
   "execution_count": 313,
   "id": "28bb9e46",
   "metadata": {},
   "outputs": [
    {
     "name": "stdout",
     "output_type": "stream",
     "text": [
      "Epochs : 1, train_loss : 0.00089, val_loss : 0.08158\n",
      "Epochs : 2, train_loss : 0.00072, val_loss : 0.08092\n",
      "Epochs : 3, train_loss : 0.00064, val_loss : 0.08193\n",
      "Epochs : 4, train_loss : 0.00061, val_loss : 0.08250\n",
      "Epochs : 5, train_loss : 0.00053, val_loss : 0.08334\n",
      "Epochs : 6, train_loss : 0.00048, val_loss : 0.08400\n",
      "Epochs : 7, train_loss : 0.00045, val_loss : 0.08481\n",
      "Epochs : 8, train_loss : 0.00042, val_loss : 0.08459\n",
      "Epochs : 9, train_loss : 0.00039, val_loss : 0.08548\n",
      "Epochs : 10, train_loss : 0.00037, val_loss : 0.08674\n",
      "Epochs : 11, train_loss : 0.00034, val_loss : 0.08778\n",
      "Epochs : 12, train_loss : 0.00033, val_loss : 0.08810\n",
      "Epochs : 13, train_loss : 0.00031, val_loss : 0.08824\n",
      "Epochs : 14, train_loss : 0.00030, val_loss : 0.08856\n",
      "Epochs : 15, train_loss : 0.00028, val_loss : 0.08892\n",
      "Epochs : 16, train_loss : 0.00027, val_loss : 0.08930\n",
      "Epochs : 17, train_loss : 0.00026, val_loss : 0.08963\n",
      "Epochs : 18, train_loss : 0.00025, val_loss : 0.08981\n",
      "Epochs : 19, train_loss : 0.00024, val_loss : 0.09064\n",
      "Epochs : 20, train_loss : 0.00023, val_loss : 0.09071\n",
      "Epochs : 21, train_loss : 0.00022, val_loss : 0.09094\n",
      "Epochs : 22, train_loss : 0.00021, val_loss : 0.09085\n",
      "Epochs : 23, train_loss : 0.00020, val_loss : 0.09225\n",
      "Epochs : 24, train_loss : 0.00020, val_loss : 0.09223\n",
      "Epochs : 25, train_loss : 0.00019, val_loss : 0.09209\n",
      "Epochs : 26, train_loss : 0.00019, val_loss : 0.09287\n",
      "Epochs : 27, train_loss : 0.00018, val_loss : 0.09285\n",
      "Epochs : 28, train_loss : 0.00017, val_loss : 0.09301\n",
      "Epochs : 29, train_loss : 0.00017, val_loss : 0.09357\n",
      "Epochs : 30, train_loss : 0.00016, val_loss : 0.09393\n",
      "Epochs : 31, train_loss : 0.00016, val_loss : 0.09424\n",
      "Epochs : 32, train_loss : 0.00016, val_loss : 0.09385\n",
      "Epochs : 33, train_loss : 0.00015, val_loss : 0.09419\n",
      "Epochs : 34, train_loss : 0.00015, val_loss : 0.09518\n",
      "Epochs : 35, train_loss : 0.00014, val_loss : 0.09504\n",
      "Epochs : 36, train_loss : 0.00014, val_loss : 0.09573\n",
      "Epochs : 37, train_loss : 0.00014, val_loss : 0.09526\n",
      "Epochs : 38, train_loss : 0.00013, val_loss : 0.09551\n",
      "Epochs : 39, train_loss : 0.00013, val_loss : 0.09645\n",
      "Epochs : 40, train_loss : 0.00013, val_loss : 0.09667\n",
      "Epochs : 41, train_loss : 0.00012, val_loss : 0.09687\n",
      "Epochs : 42, train_loss : 0.00012, val_loss : 0.09728\n",
      "Epochs : 43, train_loss : 0.00012, val_loss : 0.09713\n",
      "Epochs : 44, train_loss : 0.00012, val_loss : 0.09778\n",
      "Epochs : 45, train_loss : 0.00011, val_loss : 0.09763\n",
      "Epochs : 46, train_loss : 0.00011, val_loss : 0.09804\n",
      "Epochs : 47, train_loss : 0.00011, val_loss : 0.09795\n",
      "Epochs : 48, train_loss : 0.00011, val_loss : 0.09874\n",
      "Epochs : 49, train_loss : 0.00011, val_loss : 0.09844\n",
      "Epochs : 50, train_loss : 0.00010, val_loss : 0.09861\n"
     ]
    }
   ],
   "source": [
    "epochs = 50\n",
    "val_loss_history = []\n",
    "for epoch in range(epochs):\n",
    "    model.train()\n",
    "    total_loss = 0\n",
    "    for x, y in train_loader:\n",
    "        x = x.view(-1, 28*28).to(device)\n",
    "        y = y.to(device)\n",
    "        optimizer.zero_grad()\n",
    "        output = model(x)\n",
    "        loss = loss_fn(output, y)\n",
    "        loss.backward()\n",
    "        optimizer.step()\n",
    "        total_loss += loss\n",
    "    avg_train_loss = total_loss / len(train_loader)\n",
    "    \n",
    "    total_loss = 0\n",
    "    with torch.no_grad():\n",
    "        model.eval()\n",
    "        for test_x, test_y in test_loader:\n",
    "            test_x = test_x.view(-1, 28*28).to(device)\n",
    "            test_y = test_y.to(device)\n",
    "            pred = model(test_x)\n",
    "            total_loss += loss_fn(pred, test_y)\n",
    "    avg_val_loss = total_loss / len(test_loader)\n",
    "    val_loss_history.append(avg_val_loss.cpu().numpy())\n",
    "    print(f\"Epochs : {epoch+1}, train_loss : {avg_train_loss:.5f}, val_loss : {avg_val_loss:.5f}\")"
   ]
  },
  {
   "cell_type": "code",
   "execution_count": 315,
   "id": "a67e627c",
   "metadata": {},
   "outputs": [],
   "source": [
    "val_loss_hisotry = np.array(val_loss_history)\n",
    "\n",
    "# test_dataset의 예측값\n",
    "preds2 = []\n",
    "with torch.no_grad():\n",
    "    model.eval()\n",
    "    for x, y in test_loader:\n",
    "        x = x.view(-1, 28*28).to(device)\n",
    "        y = y.to(device)\n",
    "        pred = model(x)\n",
    "        preds2.append(np.argmax(pred.cpu().numpy(), axis=1))"
   ]
  },
  {
   "cell_type": "code",
   "execution_count": 320,
   "id": "e97f8c0b",
   "metadata": {},
   "outputs": [],
   "source": [
    "test_ys = test_dataset.targets[:9984]\n",
    "preds2 = np.array(preds2).flatten()"
   ]
  },
  {
   "cell_type": "code",
   "execution_count": 321,
   "id": "1c3bbe84",
   "metadata": {},
   "outputs": [],
   "source": [
    "cm = confusion_matrix(test_ys, preds2)"
   ]
  },
  {
   "cell_type": "code",
   "execution_count": 322,
   "id": "b8599cd6",
   "metadata": {},
   "outputs": [
    {
     "data": {
      "image/png": "[encoded data removed]",
      "text/plain": [
       "<Figure size 576x504 with 2 Axes>"
      ]
     },
     "metadata": {
      "needs_background": "light"
     },
     "output_type": "display_data"
    }
   ],
   "source": [
    "# heatmap value : 표본의 수\n",
    "plt.figure(figsize=(8,7))\n",
    "sns.heatmap(cm, annot=True,annot_kws={\"size\":10}, cmap='Blues', fmt=\"d\")\n",
    "plt.tight_layout()\n",
    "plt.xlabel('Predicted')\n",
    "plt.ylabel('True')\n",
    "plt.show()"
   ]
  }
 ],
 "metadata": {
  "kernelspec": {
   "display_name": "Python 3 (ipykernel)",
   "language": "python",
   "name": "python3"
  },
  "language_info": {
   "codemirror_mode": {
    "name": "ipython",
    "version": 3
   },
   "file_extension": ".py",
   "mimetype": "text/x-python",
   "name": "python",
   "nbconvert_exporter": "python",
   "pygments_lexer": "ipython3",
   "version": "3.8.10"
  }
 },
 "nbformat": 4,
 "nbformat_minor": 5
}
