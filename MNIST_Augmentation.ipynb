{
 "cells": [
  {
   "cell_type": "code",
   "execution_count": 48,
   "id": "abb7ae4a",
   "metadata": {},
   "outputs": [],
   "source": [
    "import tarfile # 처음에만 실행\n",
    "tar = tarfile.open(\"mnist_png.tar.gz\")\n",
    "tar.extractall()\n",
    "tar.close()"
   ]
  },
  {
   "cell_type": "code",
   "execution_count": 14,
   "id": "bd5e75bf",
   "metadata": {},
   "outputs": [
    {
     "data": {
      "text/plain": [
       "device(type='cuda')"
      ]
     },
     "execution_count": 14,
     "metadata": {},
     "output_type": "execute_result"
    }
   ],
   "source": [
    "import torch\n",
    "import torch.nn as nn\n",
    "import torch.nn.functional as F\n",
    "from torch.utils.data import DataLoader\n",
    "from torch.utils.data import Dataset\n",
    "from torchvision.transforms import v2\n",
    "from sklearn.metrics import *\n",
    "from PIL import Image\n",
    "import numpy as np\n",
    "import cv2\n",
    "import matplotlib.pyplot as plt\n",
    "import pandas as pd\n",
    "import seaborn as sns\n",
    "import random\n",
    "import glob\n",
    "\n",
    "device = torch.device(\"cuda\")\n",
    "device"
   ]
  },
  {
   "cell_type": "markdown",
   "id": "3c6f455b",
   "metadata": {},
   "source": [
    "#  0. Augmentation visualizing"
   ]
  },
  {
   "cell_type": "code",
   "execution_count": 3,
   "id": "5d3abac9",
   "metadata": {},
   "outputs": [
    {
     "data": {
      "text/plain": [
       "[<PIL.PngImagePlugin.PngImageFile image mode=L size=28x28>,\n",
       " <PIL.PngImagePlugin.PngImageFile image mode=L size=28x28>,\n",
       " <PIL.PngImagePlugin.PngImageFile image mode=L size=28x28>,\n",
       " <PIL.PngImagePlugin.PngImageFile image mode=L size=28x28>,\n",
       " <PIL.PngImagePlugin.PngImageFile image mode=L size=28x28>]"
      ]
     },
     "execution_count": 3,
     "metadata": {},
     "output_type": "execute_result"
    }
   ],
   "source": [
    "samples = []\n",
    "for i in range(5):\n",
    "    path = glob.glob(f'./mnist_png/training/{i}/*.png')[0]\n",
    "    img = Image.open(path)\n",
    "    samples.append(img)\n",
    "samples"
   ]
  },
  {
   "cell_type": "code",
   "execution_count": 4,
   "id": "6321de31",
   "metadata": {},
   "outputs": [
    {
     "data": {
      "image/png": "[encoded data removed]",
      "text/plain": [
       "<Figure size 504x504 with 25 Axes>"
      ]
     },
     "metadata": {},
     "output_type": "display_data"
    }
   ],
   "source": [
    "fig, ax = plt.subplots(5,5, figsize=(7, 7))\n",
    "for i in range(5):\n",
    "    img = samples[i]\n",
    "    for j in range(5):\n",
    "        if j!=0:\n",
    "            if j==1:\n",
    "                transform = v2.RandomVerticalFlip(p=0.5)\n",
    "            elif j==2:\n",
    "                transform = v2.RandomRotation(degrees=(0, 60))\n",
    "            elif j==3:\n",
    "                transform = v2.Resize(size=20)\n",
    "            else:\n",
    "                transform = v2.GaussianBlur(kernel_size=(3,3))\n",
    "            aug_img = transform(img)\n",
    "        else:\n",
    "            aug_img = img\n",
    "        \n",
    "        ax[i, j].imshow(aug_img, cmap='gray')\n",
    "        ax[i, j].set_xticks([])\n",
    "        ax[i, j].set_yticks([])\n",
    "        \n",
    "ax[0, 0].set_title(\"Original\", fontdict={'fontsize':8})\n",
    "ax[0, 1].set_title(\"RandomVerticalFlip\", fontdict={'fontsize':8})\n",
    "ax[0, 2].set_title(\"RandomRotation\", fontdict={'fontsize':8})\n",
    "ax[0, 3].set_title(\"Resize\", fontdict={'fontsize':8})\n",
    "ax[0, 4].set_title(\"GaussianBlur\", fontdict={'fontsize':8})\n",
    "\n",
    "fig.tight_layout()\n",
    "plt.show()"
   ]
  },
  {
   "cell_type": "markdown",
   "id": "9d9d4764",
   "metadata": {},
   "source": [
    "# 1. CustomDataset"
   ]
  },
  {
   "cell_type": "code",
   "execution_count": 45,
   "id": "087c92bf",
   "metadata": {},
   "outputs": [],
   "source": [
    "class CustomDataset(Dataset):\n",
    "    def __init__(self, file_path, train=None, transform=None):\n",
    "        super().__init__()\n",
    "        self.labels = []\n",
    "        self.file_path = file_path\n",
    "        self.transform = transform\n",
    "        \n",
    "        if train:\n",
    "            csv = pd.read_csv('csv_label.csv', header=None)\n",
    "        else:\n",
    "            csv = pd.read_csv('csv_label_test.csv', header=None)\n",
    "            csv = csv.drop(0, axis=1)\n",
    "        csv = np.array(csv)\n",
    "        for i in range(len(csv)):\n",
    "            for cls in range(10):\n",
    "                if csv[i][cls]==1:\n",
    "                    self.labels.append(cls)\n",
    "        self.labels = np.array(self.labels)\n",
    "    \n",
    "    def __len__(self):\n",
    "        return len(self.file_path)\n",
    "    \n",
    "    def __getitem__(self, idx):\n",
    "        file = self.file_path[idx]\n",
    "        img = Image.open(file)\n",
    "        if self.transform and self.labels[idx]==5: # '5' class augmentation \n",
    "            img = self.transform(img)\n",
    "        else:\n",
    "            self.transform = v2.Compose([\n",
    "                v2.ToImageTensor(), \n",
    "                v2.ConvertImageDtype()])\n",
    "            img = self.transform(img)\n",
    "        return img, self.labels[idx]"
   ]
  },
  {
   "cell_type": "code",
   "execution_count": 91,
   "id": "3052cc97",
   "metadata": {},
   "outputs": [],
   "source": [
    "train_path = glob.glob('./mnist_png/training/*/*.png')\n",
    "test_path = glob.glob('./mnist_png/testing/*/*.png')\n",
    "\n",
    "transform = v2.Compose([v2.RandomRotation(degrees=(0, 60)), \n",
    "                        v2.ToImageTensor(), \n",
    "                        v2.ConvertImageDtype()])\n",
    "\n",
    "train_dataset = CustomDataset(file_path=train_path, train=True, transform=transform)\n",
    "test_dataset = CustomDataset(file_path=test_path, train=False, transform=transform)\n",
    "\n",
    "train_loader = DataLoader(train_dataset, batch_size=32, shuffle=True)\n",
    "test_loader = DataLoader(test_dataset, batch_size=32, drop_last=True) # shuffle X"
   ]
  },
  {
   "cell_type": "markdown",
   "id": "b2d5c0cf",
   "metadata": {},
   "source": [
    "# 2. Model Configuration/Training"
   ]
  },
  {
   "cell_type": "code",
   "execution_count": 93,
   "id": "26c1003c",
   "metadata": {},
   "outputs": [],
   "source": [
    "model = nn.Sequential()\n",
    "model.add_module('fc1', nn.Linear(28*28, 100))\n",
    "model.add_module('relu1', nn.ReLU())\n",
    "model.add_module('fc2', nn.Linear(100, 100))\n",
    "model.add_module('relu2', nn.ReLU())\n",
    "model.add_module('fc3', nn.Linear(100, 10))\n",
    "model.to(device)\n",
    "\n",
    "loss_fn = nn.CrossEntropyLoss()\n",
    "optimizer = torch.optim.SGD(model.parameters(), lr=0.01)"
   ]
  },
  {
   "cell_type": "code",
   "execution_count": 94,
   "id": "28bb9e46",
   "metadata": {},
   "outputs": [
    {
     "name": "stdout",
     "output_type": "stream",
     "text": [
      "Epochs : 1, loss : 1.38444\n",
      "Epochs : 2, loss : 0.64913\n",
      "Epochs : 3, loss : 0.55538\n",
      "Epochs : 4, loss : 0.50409\n",
      "Epochs : 5, loss : 0.46630\n",
      "Epochs : 6, loss : 0.43773\n",
      "Epochs : 7, loss : 0.41525\n",
      "Epochs : 8, loss : 0.39679\n",
      "Epochs : 9, loss : 0.38133\n",
      "Epochs : 10, loss : 0.36862\n",
      "Epochs : 11, loss : 0.35660\n",
      "Epochs : 12, loss : 0.34707\n",
      "Epochs : 13, loss : 0.33843\n",
      "Epochs : 14, loss : 0.33082\n",
      "Epochs : 15, loss : 0.32373\n",
      "Epochs : 16, loss : 0.31717\n",
      "Epochs : 17, loss : 0.31139\n",
      "Epochs : 18, loss : 0.30628\n",
      "Epochs : 19, loss : 0.30069\n",
      "Epochs : 20, loss : 0.29666\n",
      "Epochs : 21, loss : 0.29281\n",
      "Epochs : 22, loss : 0.28846\n",
      "Epochs : 23, loss : 0.28463\n",
      "Epochs : 24, loss : 0.28081\n",
      "Epochs : 25, loss : 0.27777\n",
      "Epochs : 26, loss : 0.27397\n",
      "Epochs : 27, loss : 0.27122\n",
      "Epochs : 28, loss : 0.26842\n",
      "Epochs : 29, loss : 0.26521\n",
      "Epochs : 30, loss : 0.26290\n"
     ]
    }
   ],
   "source": [
    "epochs = 30\n",
    "loss_history = []\n",
    "for epoch in range(epochs):\n",
    "    model.train()\n",
    "    train_loss = 0\n",
    "    for x, y in train_loader:\n",
    "        x = x.view(-1, 28*28).to(device)\n",
    "        y = y.to(device)\n",
    "        optimizer.zero_grad()\n",
    "        output = model(x)\n",
    "        loss = loss_fn(output, y)\n",
    "        loss.backward()\n",
    "        train_loss += loss\n",
    "        optimizer.step()\n",
    "    avg_train_loss = train_loss / len(train_loader)\n",
    "    loss_history.append(avg_train_loss.cpu().detach().numpy())\n",
    "    print(f\"Epochs : {epoch+1}, loss : {avg_train_loss:.5f}\")"
   ]
  },
  {
   "cell_type": "code",
   "execution_count": 95,
   "id": "a67e627c",
   "metadata": {},
   "outputs": [],
   "source": [
    "# test pred\n",
    "preds = []\n",
    "model.eval()\n",
    "with torch.no_grad():\n",
    "    for x, y in test_loader:\n",
    "        x = x.view(-1, 28*28).to(device)\n",
    "        y = y.to(device)\n",
    "        output = model(x)\n",
    "        preds.append(np.argmax(output.cpu().numpy(), axis=1))\n",
    "        \n",
    "targets = test_dataset.labels[:9984]\n",
    "preds = np.array(preds).flatten()"
   ]
  },
  {
   "cell_type": "code",
   "execution_count": 96,
   "id": "bb379605",
   "metadata": {},
   "outputs": [
    {
     "data": {
      "text/html": [
       "<div>\n",
       "<style scoped>\n",
       "    .dataframe tbody tr th:only-of-type {\n",
       "        vertical-align: middle;\n",
       "    }\n",
       "\n",
       "    .dataframe tbody tr th {\n",
       "        vertical-align: top;\n",
       "    }\n",
       "\n",
       "    .dataframe thead th {\n",
       "        text-align: right;\n",
       "    }\n",
       "</style>\n",
       "<table border=\"1\" class=\"dataframe\">\n",
       "  <thead>\n",
       "    <tr style=\"text-align: right;\">\n",
       "      <th></th>\n",
       "      <th>0</th>\n",
       "      <th>1</th>\n",
       "      <th>2</th>\n",
       "      <th>3</th>\n",
       "      <th>4</th>\n",
       "      <th>5</th>\n",
       "      <th>6</th>\n",
       "      <th>7</th>\n",
       "      <th>8</th>\n",
       "      <th>9</th>\n",
       "      <th>accuracy</th>\n",
       "      <th>macro avg</th>\n",
       "      <th>weighted avg</th>\n",
       "    </tr>\n",
       "  </thead>\n",
       "  <tbody>\n",
       "    <tr>\n",
       "      <th>precision</th>\n",
       "      <td>0.851232</td>\n",
       "      <td>0.902256</td>\n",
       "      <td>0.918172</td>\n",
       "      <td>0.969595</td>\n",
       "      <td>0.907723</td>\n",
       "      <td>0.846540</td>\n",
       "      <td>0.815185</td>\n",
       "      <td>0.865927</td>\n",
       "      <td>0.910678</td>\n",
       "      <td>0.976861</td>\n",
       "      <td>0.894832</td>\n",
       "      <td>0.896417</td>\n",
       "      <td>0.897620</td>\n",
       "    </tr>\n",
       "    <tr>\n",
       "      <th>recall</th>\n",
       "      <td>0.986735</td>\n",
       "      <td>0.845815</td>\n",
       "      <td>0.837209</td>\n",
       "      <td>0.852475</td>\n",
       "      <td>0.921589</td>\n",
       "      <td>0.963470</td>\n",
       "      <td>0.851775</td>\n",
       "      <td>0.835603</td>\n",
       "      <td>0.910678</td>\n",
       "      <td>0.962339</td>\n",
       "      <td>0.894832</td>\n",
       "      <td>0.896769</td>\n",
       "      <td>0.894832</td>\n",
       "    </tr>\n",
       "    <tr>\n",
       "      <th>f1-score</th>\n",
       "      <td>0.913989</td>\n",
       "      <td>0.873124</td>\n",
       "      <td>0.875824</td>\n",
       "      <td>0.907271</td>\n",
       "      <td>0.914603</td>\n",
       "      <td>0.901228</td>\n",
       "      <td>0.833078</td>\n",
       "      <td>0.850495</td>\n",
       "      <td>0.910678</td>\n",
       "      <td>0.969546</td>\n",
       "      <td>0.894832</td>\n",
       "      <td>0.894983</td>\n",
       "      <td>0.894650</td>\n",
       "    </tr>\n",
       "    <tr>\n",
       "      <th>support</th>\n",
       "      <td>980.000000</td>\n",
       "      <td>1135.000000</td>\n",
       "      <td>1032.000000</td>\n",
       "      <td>1010.000000</td>\n",
       "      <td>982.000000</td>\n",
       "      <td>876.000000</td>\n",
       "      <td>958.000000</td>\n",
       "      <td>1028.000000</td>\n",
       "      <td>974.000000</td>\n",
       "      <td>1009.000000</td>\n",
       "      <td>0.894832</td>\n",
       "      <td>9984.000000</td>\n",
       "      <td>9984.000000</td>\n",
       "    </tr>\n",
       "  </tbody>\n",
       "</table>\n",
       "</div>"
      ],
      "text/plain": [
       "                    0            1            2            3           4  \\\n",
       "precision    0.851232     0.902256     0.918172     0.969595    0.907723   \n",
       "recall       0.986735     0.845815     0.837209     0.852475    0.921589   \n",
       "f1-score     0.913989     0.873124     0.875824     0.907271    0.914603   \n",
       "support    980.000000  1135.000000  1032.000000  1010.000000  982.000000   \n",
       "\n",
       "                    5           6            7           8            9  \\\n",
       "precision    0.846540    0.815185     0.865927    0.910678     0.976861   \n",
       "recall       0.963470    0.851775     0.835603    0.910678     0.962339   \n",
       "f1-score     0.901228    0.833078     0.850495    0.910678     0.969546   \n",
       "support    876.000000  958.000000  1028.000000  974.000000  1009.000000   \n",
       "\n",
       "           accuracy    macro avg  weighted avg  \n",
       "precision  0.894832     0.896417      0.897620  \n",
       "recall     0.894832     0.896769      0.894832  \n",
       "f1-score   0.894832     0.894983      0.894650  \n",
       "support    0.894832  9984.000000   9984.000000  "
      ]
     },
     "execution_count": 96,
     "metadata": {},
     "output_type": "execute_result"
    }
   ],
   "source": [
    "report = classification_report(targets, preds, output_dict=True)\n",
    "df = pd.DataFrame(report)\n",
    "df"
   ]
  },
  {
   "cell_type": "code",
   "execution_count": 98,
   "id": "796fde0b",
   "metadata": {},
   "outputs": [
    {
     "data": {
      "text/html": [
       "<div>\n",
       "<style scoped>\n",
       "    .dataframe tbody tr th:only-of-type {\n",
       "        vertical-align: middle;\n",
       "    }\n",
       "\n",
       "    .dataframe tbody tr th {\n",
       "        vertical-align: top;\n",
       "    }\n",
       "\n",
       "    .dataframe thead th {\n",
       "        text-align: right;\n",
       "    }\n",
       "</style>\n",
       "<table border=\"1\" class=\"dataframe\">\n",
       "  <thead>\n",
       "    <tr style=\"text-align: right;\">\n",
       "      <th></th>\n",
       "      <th>precision</th>\n",
       "      <th>recall</th>\n",
       "      <th>f1-score</th>\n",
       "      <th>accuracy</th>\n",
       "    </tr>\n",
       "  </thead>\n",
       "  <tbody>\n",
       "    <tr>\n",
       "      <th>RandomRotation</th>\n",
       "      <td>0.896417</td>\n",
       "      <td>0.896769</td>\n",
       "      <td>0.894983</td>\n",
       "      <td>0.894832</td>\n",
       "    </tr>\n",
       "  </tbody>\n",
       "</table>\n",
       "</div>"
      ],
      "text/plain": [
       "                precision    recall  f1-score  accuracy\n",
       "RandomRotation   0.896417  0.896769  0.894983  0.894832"
      ]
     },
     "execution_count": 98,
     "metadata": {},
     "output_type": "execute_result"
    }
   ],
   "source": [
    "a = df[['macro avg']]\n",
    "a.columns = ['RandomRotation']\n",
    "a = a.drop(['support'])\n",
    "a.loc['accuracy'] = df['accuracy']['precision']\n",
    "a = a.transpose()\n",
    "a.to_csv(\"RandomRotation.csv\")\n",
    "a"
   ]
  },
  {
   "cell_type": "code",
   "execution_count": 99,
   "id": "b8599cd6",
   "metadata": {},
   "outputs": [
    {
     "data": {
      "image/png": "[encoded data removed]",
      "text/plain": [
       "<Figure size 576x504 with 2 Axes>"
      ]
     },
     "metadata": {
      "needs_background": "light"
     },
     "output_type": "display_data"
    }
   ],
   "source": [
    "cm = confusion_matrix(targets, preds)\n",
    "\n",
    "# heatmap value : 표본의 수\n",
    "plt.figure(figsize=(8,7))\n",
    "sns.heatmap(cm, annot=True,annot_kws={\"size\":10}, cmap='Blues', fmt=\"d\")\n",
    "plt.tight_layout()\n",
    "plt.xlabel('Predicted')\n",
    "plt.ylabel('True')\n",
    "plt.show()"
   ]
  }
 ],
 "metadata": {
  "kernelspec": {
   "display_name": "Python 3 (ipykernel)",
   "language": "python",
   "name": "python3"
  },
  "language_info": {
   "codemirror_mode": {
    "name": "ipython",
    "version": 3
   },
   "file_extension": ".py",
   "mimetype": "text/x-python",
   "name": "python",
   "nbconvert_exporter": "python",
   "pygments_lexer": "ipython3",
   "version": "3.8.10"
  }
 },
 "nbformat": 4,
 "nbformat_minor": 5
}
