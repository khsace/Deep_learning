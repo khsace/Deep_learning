{
 "cells": [
  {
   "cell_type": "code",
   "execution_count": null,
   "id": "3b6c8a78",
   "metadata": {},
   "outputs": [],
   "source": [
    "import torch\n",
    "import torch.nn as nn\n",
    "import torch.nn.functional as F\n",
    "import torchvision\n",
    "from torchvision.transforms import ToTensor\n",
    "from torch.utils.data import DataLoader\n",
    "from torch.utils.data import Dataset\n",
    "from sklearn.metrics import *\n",
    "import matplotlib.pyplot as plt\n",
    "import pandas as pd\n",
    "import numpy as np\n",
    "from PIL import Image\n",
    "import optuna"
   ]
  },
  {
   "cell_type": "code",
   "execution_count": null,
   "id": "e4228622",
   "metadata": {},
   "outputs": [],
   "source": [
    "BATCHSIZE = 64\n",
    "EPOCHS = 100\n",
    "device = torch.device(\"cuda\")\n",
    "device"
   ]
  },
  {
   "cell_type": "code",
   "execution_count": null,
   "id": "489b7e51",
   "metadata": {},
   "outputs": [],
   "source": [
    "train_data = torchvision.datasets.CIFAR10(\"./dataset/train/\", train=True, download=False, transform=ToTensor())\n",
    "test_data = torchvision.datasets.CIFAR10(\"./dataset/test/\", train=False, download=False, transform=ToTensor())\n",
    "\n",
    "train_loader = DataLoader(train_data, batch_size=BATCHSIZE, shuffle=True)\n",
    "test_loader = DataLoader(test_data, batch_size=BATCHSIZE)"
   ]
  },
  {
   "cell_type": "code",
   "execution_count": null,
   "id": "455ac987",
   "metadata": {},
   "outputs": [],
   "source": [
    "labels_map = {\n",
    "    0:'airplane',\n",
    "    1:'automobile',\n",
    "    2:'bird',\n",
    "    3:'cat',\n",
    "    4:'deer',\n",
    "    5:'dog',\n",
    "    6:'frog',\n",
    "    7:'horse',\n",
    "    8:'ship',\n",
    "    9:'truck'\n",
    "}\n",
    "figure = plt.figure(figsize=(8, 8))\n",
    "cols, rows = 3, 3\n",
    "for i in range(1, cols * rows + 1):\n",
    "    sample_idx = torch.randint(len(train_data), size=(1,)).item()\n",
    "    img, label = train_data[sample_idx]\n",
    "    pil = torchvision.transforms.ToPILImage()\n",
    "    img = pil(img)\n",
    "    figure.add_subplot(rows, cols, i)\n",
    "    plt.title(labels_map[label])\n",
    "    plt.axis(\"off\")\n",
    "    plt.imshow(img)\n",
    "plt.show()"
   ]
  },
  {
   "cell_type": "code",
   "execution_count": null,
   "id": "eb5c8dcd",
   "metadata": {},
   "outputs": [],
   "source": [
    "class CNN(nn.Module):\n",
    "  def __init__(self):\n",
    "    super(CNN, self).__init__()\n",
    "    self.conv1 = nn.Conv2d(in_channels=3, out_channels=5, kernel_size=3)\n",
    "    self.conv2 = nn.Conv2d(in_channels=5, out_channels=3, kernel_size=3)\n",
    "    self.conv3 = nn.Conv2d(in_channels=3, out_channels=1, kernel_size=3)\n",
    "    self.fc1 = nn.Linear(26*26, 50)\n",
    "    self.fc2 = nn.Linear(50, 10)\n",
    "  \n",
    "  def forward(self, x):\n",
    "    x = F.relu(self.conv1(x))\n",
    "    x = F.relu(self.conv2(x))\n",
    "    x = F.relu(self.conv3(x))\n",
    "    x = x.view(-1, 26*26)\n",
    "    x = F.relu(self.fc1(x))\n",
    "    x = F.softmax(self.fc2(x), dim=1)\n",
    "    return x\n",
    "model = CNN().to(device)"
   ]
  },
  {
   "cell_type": "markdown",
   "id": "7ac8a871",
   "metadata": {},
   "source": [
    "# optimizer tuning"
   ]
  },
  {
   "cell_type": "code",
   "execution_count": null,
   "id": "679c087d",
   "metadata": {
    "scrolled": false
   },
   "outputs": [],
   "source": [
    "def objective(trial: optuna.Trial):\n",
    "    momentum = trial.suggest_float(\"momentum\", 0.9, 0.999)\n",
    "    lr = trial.suggest_float(\"lr\", 1e-6, 1e-2)\n",
    "    alpha = trial.suggest_float(\"alpha\", 0.9, 0.999)\n",
    "    eps = trial.suggest_float(\"eps\", 1e-8, 1e-4)\n",
    "    \n",
    "    loss_fn = nn.CrossEntropyLoss()\n",
    "    optimizer = torch.optim.RMSprop(model.parameters(), lr, momentum, alpha, eps)\n",
    "    for epoch in range(EPOCHS):\n",
    "        model.train()\n",
    "        for batch_idx, (data, target) in enumerate(train_loader):\n",
    "            data, target = data.view(-1, 3*32*32).to(device), target.to(device)\n",
    "            \n",
    "            optimizer.zero_grad()\n",
    "            output = model(data)\n",
    "            loss = loss_fn(output, target)\n",
    "            loss.backward()\n",
    "            optimizer.step()\n",
    "        \n",
    "        model.eval()\n",
    "        correct = 0\n",
    "        with torch.no_grad():\n",
    "            for batch_idx, (data, target) in enumerate(test_loader):\n",
    "                data, target = data.view(-1, 32*32*3).to(device), target.to(device)\n",
    "                output = model(data)\n",
    "                pred = output.argmax(dim=1, keepdim=True)\n",
    "                correct += pred.eq(target.view_as(pred)).sum().item()\n",
    "                \n",
    "        accuracy = correct / len(test_loader.dataset)\n",
    "        return accuracy\n",
    "    \n",
    "study = optuna.create_study(direction=\"maximize\")\n",
    "study.optimize(objective, n_trials=50)"
   ]
  },
  {
   "cell_type": "markdown",
   "id": "1f5e7b3b",
   "metadata": {},
   "source": [
    "# loss_function tuning"
   ]
  },
  {
   "cell_type": "code",
   "execution_count": null,
   "id": "8c670a66",
   "metadata": {},
   "outputs": [],
   "source": [
    "def objective(trial: optuna.Trial):\n",
    "    loss_trial = trial.suggest_categorical('loss_fn',['KLDivLoss', 'HuberLoss', 'L1Loss', 'SmoothL1Loss'])\n",
    "    loss_fn = getattr(nn, loss_trial)()\n",
    "    optimizer = torch.optim.Adam(model.parameters(), lr=0.01)\n",
    "    for epoch in range(EPOCHS):\n",
    "        model.train()\n",
    "        for batch_idx, (data, target) in enumerate(train_loader):\n",
    "            data, target = data.to(device), target.to(device)\n",
    "\n",
    "            optimizer.zero_grad()\n",
    "            output = model(data)\n",
    "            out, _ = torch.max(output, dim=1)\n",
    "            loss = loss_fn(out, target.float())\n",
    "            loss.backward()\n",
    "            optimizer.step()\n",
    "        return loss\n",
    "\n",
    "study = optuna.create_study(direction=\"minimize\")\n",
    "study.optimize(objective, n_trials=100)"
   ]
  },
  {
   "cell_type": "code",
   "execution_count": null,
   "id": "e76d3861",
   "metadata": {},
   "outputs": [],
   "source": [
    "result_lossfn = study.trials_dataframe()\n",
    "#result_lossfn.to_csv(\"./optuna_lossfn.csv\")\n",
    "result_lossfn.head()"
   ]
  }
 ],
 "metadata": {
  "kernelspec": {
   "display_name": "Python 3 (ipykernel)",
   "language": "python",
   "name": "python3"
  },
  "language_info": {
   "codemirror_mode": {
    "name": "ipython",
    "version": 3
   },
   "file_extension": ".py",
   "mimetype": "text/x-python",
   "name": "python",
   "nbconvert_exporter": "python",
   "pygments_lexer": "ipython3",
   "version": "3.8.10"
  }
 },
 "nbformat": 4,
 "nbformat_minor": 5
}
